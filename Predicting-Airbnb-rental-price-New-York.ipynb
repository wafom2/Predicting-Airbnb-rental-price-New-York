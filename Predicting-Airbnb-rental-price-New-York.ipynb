{
 "cells": [
  {
   "cell_type": "code",
   "execution_count": 32,
   "id": "f655dc98",
   "metadata": {},
   "outputs": [],
   "source": [
    "import requests\n",
    "import json\n",
    "import pandas as pd\n",
    "from bs4 import BeautifulSoup\n",
    "from matplotlib import pyplot as plt\n",
    "import seaborn as sn\n",
    "import os\n",
    "import matplotlib.pyplot as plt\n",
    "import numpy as np\n"
   ]
  },
  {
   "cell_type": "code",
   "execution_count": 3,
   "id": "aa550df3",
   "metadata": {},
   "outputs": [],
   "source": [
    "htm_doc=\"\"\"<table class=\"data table table-hover table-striped new-york-city\"><thead><tr><th class=\"col-md-3\">Country/City</th><th class=\"col-md-3\">File Name</th><th data-field=\"count\" class=\"col-md-3\" data-align=\"right\">Description</th></tr></thead><tbody><tr><td>New York City</td><td><a href=\"http://data.insideairbnb.com/united-states/ny/new-york-city/2023-03-06/data/listings.csv.gz\">listings.csv.gz</a></td><td>Detailed Listings data</td></tr><tr><td>New York City</td><td><a href=\"http://data.insideairbnb.com/united-states/ny/new-york-city/2023-03-06/data/calendar.csv.gz\">calendar.csv.gz</a></td><td>Detailed Calendar Data</td></tr><tr><td>New York City</td><td><a href=\"http://data.insideairbnb.com/united-states/ny/new-york-city/2023-03-06/data/reviews.csv.gz\">reviews.csv.gz</a></td><td>Detailed Review Data</td></tr><tr><td>New York City</td><td><a href=\"http://data.insideairbnb.com/united-states/ny/new-york-city/2023-03-06/visualisations/listings.csv\">listings.csv</a></td><td>Summary information and metrics for listings in <!-- -->New York City<!-- --> (good for visualisations).</td></tr><tr><td>New York City</td><td><a href=\"http://data.insideairbnb.com/united-states/ny/new-york-city/2023-03-06/visualisations/reviews.csv\"> reviews.csv</a></td><td>Summary Review data and Listing ID (to facilitate time based analytics and visualisations linked to a listing).</td></tr><tr><td>New York City</td><td><a href=\"http://data.insideairbnb.com/united-states/ny/new-york-city/2023-03-06/visualisations/neighbourhoods.csv\">neighbourhoods.csv</a></td><td>Neighbourhood list for geo filter. Sourced from city or open source GIS files.</td></tr><tr><td>New York City</td><td><a href=\"http://data.insideairbnb.com/united-states/ny/new-york-city/2023-03-06/visualisations/neighbourhoods.geojson\">neighbourhoods.geojson</a></td><td>GeoJSON file of neighbourhoods of the city.</td></tr></tbody></tabl\"\"\""
   ]
  },
  {
   "cell_type": "code",
   "execution_count": 8,
   "id": "d6daf48b",
   "metadata": {},
   "outputs": [],
   "source": [
    "soup = (htm_doc, 'html.parser')"
   ]
  },
  {
   "cell_type": "code",
   "execution_count": 9,
   "id": "4f7b41fe",
   "metadata": {},
   "outputs": [],
   "source": [
    "soup = BeautifulSoup(htm_doc, 'html.parser')"
   ]
  },
  {
   "cell_type": "code",
   "execution_count": 10,
   "id": "5faedff4",
   "metadata": {},
   "outputs": [
    {
     "data": {
      "text/plain": [
       "<table class=\"data table table-hover table-striped new-york-city\"><thead><tr><th class=\"col-md-3\">Country/City</th><th class=\"col-md-3\">File Name</th><th class=\"col-md-3\" data-align=\"right\" data-field=\"count\">Description</th></tr></thead><tbody><tr><td>New York City</td><td><a href=\"http://data.insideairbnb.com/united-states/ny/new-york-city/2023-03-06/data/listings.csv.gz\">listings.csv.gz</a></td><td>Detailed Listings data</td></tr><tr><td>New York City</td><td><a href=\"http://data.insideairbnb.com/united-states/ny/new-york-city/2023-03-06/data/calendar.csv.gz\">calendar.csv.gz</a></td><td>Detailed Calendar Data</td></tr><tr><td>New York City</td><td><a href=\"http://data.insideairbnb.com/united-states/ny/new-york-city/2023-03-06/data/reviews.csv.gz\">reviews.csv.gz</a></td><td>Detailed Review Data</td></tr><tr><td>New York City</td><td><a href=\"http://data.insideairbnb.com/united-states/ny/new-york-city/2023-03-06/visualisations/listings.csv\">listings.csv</a></td><td>Summary information and metrics for listings in <!-- -->New York City<!-- --> (good for visualisations).</td></tr><tr><td>New York City</td><td><a href=\"http://data.insideairbnb.com/united-states/ny/new-york-city/2023-03-06/visualisations/reviews.csv\"> reviews.csv</a></td><td>Summary Review data and Listing ID (to facilitate time based analytics and visualisations linked to a listing).</td></tr><tr><td>New York City</td><td><a href=\"http://data.insideairbnb.com/united-states/ny/new-york-city/2023-03-06/visualisations/neighbourhoods.csv\">neighbourhoods.csv</a></td><td>Neighbourhood list for geo filter. Sourced from city or open source GIS files.</td></tr><tr><td>New York City</td><td><a href=\"http://data.insideairbnb.com/united-states/ny/new-york-city/2023-03-06/visualisations/neighbourhoods.geojson\">neighbourhoods.geojson</a></td><td>GeoJSON file of neighbourhoods of the city.</td></tr></tbody>&lt;/tabl</table>"
      ]
     },
     "execution_count": 10,
     "metadata": {},
     "output_type": "execute_result"
    }
   ],
   "source": [
    "soup"
   ]
  },
  {
   "cell_type": "code",
   "execution_count": 11,
   "id": "5f0527eb",
   "metadata": {},
   "outputs": [
    {
     "name": "stdout",
     "output_type": "stream",
     "text": [
      "<table class=\"data table table-hover table-striped new-york-city\">\n",
      " <thead>\n",
      "  <tr>\n",
      "   <th class=\"col-md-3\">\n",
      "    Country/City\n",
      "   </th>\n",
      "   <th class=\"col-md-3\">\n",
      "    File Name\n",
      "   </th>\n",
      "   <th class=\"col-md-3\" data-align=\"right\" data-field=\"count\">\n",
      "    Description\n",
      "   </th>\n",
      "  </tr>\n",
      " </thead>\n",
      " <tbody>\n",
      "  <tr>\n",
      "   <td>\n",
      "    New York City\n",
      "   </td>\n",
      "   <td>\n",
      "    <a href=\"http://data.insideairbnb.com/united-states/ny/new-york-city/2023-03-06/data/listings.csv.gz\">\n",
      "     listings.csv.gz\n",
      "    </a>\n",
      "   </td>\n",
      "   <td>\n",
      "    Detailed Listings data\n",
      "   </td>\n",
      "  </tr>\n",
      "  <tr>\n",
      "   <td>\n",
      "    New York City\n",
      "   </td>\n",
      "   <td>\n",
      "    <a href=\"http://data.insideairbnb.com/united-states/ny/new-york-city/2023-03-06/data/calendar.csv.gz\">\n",
      "     calendar.csv.gz\n",
      "    </a>\n",
      "   </td>\n",
      "   <td>\n",
      "    Detailed Calendar Data\n",
      "   </td>\n",
      "  </tr>\n",
      "  <tr>\n",
      "   <td>\n",
      "    New York City\n",
      "   </td>\n",
      "   <td>\n",
      "    <a href=\"http://data.insideairbnb.com/united-states/ny/new-york-city/2023-03-06/data/reviews.csv.gz\">\n",
      "     reviews.csv.gz\n",
      "    </a>\n",
      "   </td>\n",
      "   <td>\n",
      "    Detailed Review Data\n",
      "   </td>\n",
      "  </tr>\n",
      "  <tr>\n",
      "   <td>\n",
      "    New York City\n",
      "   </td>\n",
      "   <td>\n",
      "    <a href=\"http://data.insideairbnb.com/united-states/ny/new-york-city/2023-03-06/visualisations/listings.csv\">\n",
      "     listings.csv\n",
      "    </a>\n",
      "   </td>\n",
      "   <td>\n",
      "    Summary information and metrics for listings in\n",
      "    <!-- -->\n",
      "    New York City\n",
      "    <!-- -->\n",
      "    (good for visualisations).\n",
      "   </td>\n",
      "  </tr>\n",
      "  <tr>\n",
      "   <td>\n",
      "    New York City\n",
      "   </td>\n",
      "   <td>\n",
      "    <a href=\"http://data.insideairbnb.com/united-states/ny/new-york-city/2023-03-06/visualisations/reviews.csv\">\n",
      "     reviews.csv\n",
      "    </a>\n",
      "   </td>\n",
      "   <td>\n",
      "    Summary Review data and Listing ID (to facilitate time based analytics and visualisations linked to a listing).\n",
      "   </td>\n",
      "  </tr>\n",
      "  <tr>\n",
      "   <td>\n",
      "    New York City\n",
      "   </td>\n",
      "   <td>\n",
      "    <a href=\"http://data.insideairbnb.com/united-states/ny/new-york-city/2023-03-06/visualisations/neighbourhoods.csv\">\n",
      "     neighbourhoods.csv\n",
      "    </a>\n",
      "   </td>\n",
      "   <td>\n",
      "    Neighbourhood list for geo filter. Sourced from city or open source GIS files.\n",
      "   </td>\n",
      "  </tr>\n",
      "  <tr>\n",
      "   <td>\n",
      "    New York City\n",
      "   </td>\n",
      "   <td>\n",
      "    <a href=\"http://data.insideairbnb.com/united-states/ny/new-york-city/2023-03-06/visualisations/neighbourhoods.geojson\">\n",
      "     neighbourhoods.geojson\n",
      "    </a>\n",
      "   </td>\n",
      "   <td>\n",
      "    GeoJSON file of neighbourhoods of the city.\n",
      "   </td>\n",
      "  </tr>\n",
      " </tbody>\n",
      " &lt;/tabl\n",
      "</table>\n"
     ]
    }
   ],
   "source": [
    "print(soup.prettify())"
   ]
  },
  {
   "cell_type": "code",
   "execution_count": 12,
   "id": "20771c2a",
   "metadata": {},
   "outputs": [],
   "source": [
    "url=\"http://data.insideairbnb.com/united-states/ny/new-york-city/2023-03-06/visualisations/listings.csv\""
   ]
  },
  {
   "cell_type": "code",
   "execution_count": 13,
   "id": "c1b5f476",
   "metadata": {},
   "outputs": [
    {
     "name": "stderr",
     "output_type": "stream",
     "text": [
      "C:\\Users\\IFDCPP-2\\AppData\\Local\\Temp\\ipykernel_31988\\2164636260.py:1: DtypeWarning: Columns (17) have mixed types. Specify dtype option on import or set low_memory=False.\n",
      "  df=pd.read_csv(\"http://data.insideairbnb.com/united-states/ny/new-york-city/2023-03-06/visualisations/listings.csv\")\n"
     ]
    }
   ],
   "source": [
    "df=pd.read_csv(\"http://data.insideairbnb.com/united-states/ny/new-york-city/2023-03-06/visualisations/listings.csv\")"
   ]
  },
  {
   "cell_type": "code",
   "execution_count": 14,
   "id": "6dab34ad",
   "metadata": {},
   "outputs": [
    {
     "data": {
      "text/html": [
       "<div>\n",
       "<style scoped>\n",
       "    .dataframe tbody tr th:only-of-type {\n",
       "        vertical-align: middle;\n",
       "    }\n",
       "\n",
       "    .dataframe tbody tr th {\n",
       "        vertical-align: top;\n",
       "    }\n",
       "\n",
       "    .dataframe thead th {\n",
       "        text-align: right;\n",
       "    }\n",
       "</style>\n",
       "<table border=\"1\" class=\"dataframe\">\n",
       "  <thead>\n",
       "    <tr style=\"text-align: right;\">\n",
       "      <th></th>\n",
       "      <th>id</th>\n",
       "      <th>name</th>\n",
       "      <th>host_id</th>\n",
       "      <th>host_name</th>\n",
       "      <th>neighbourhood_group</th>\n",
       "      <th>neighbourhood</th>\n",
       "      <th>latitude</th>\n",
       "      <th>longitude</th>\n",
       "      <th>room_type</th>\n",
       "      <th>price</th>\n",
       "      <th>minimum_nights</th>\n",
       "      <th>number_of_reviews</th>\n",
       "      <th>last_review</th>\n",
       "      <th>reviews_per_month</th>\n",
       "      <th>calculated_host_listings_count</th>\n",
       "      <th>availability_365</th>\n",
       "      <th>number_of_reviews_ltm</th>\n",
       "      <th>license</th>\n",
       "    </tr>\n",
       "  </thead>\n",
       "  <tbody>\n",
       "    <tr>\n",
       "      <th>0</th>\n",
       "      <td>2595</td>\n",
       "      <td>Skylit Midtown Castle</td>\n",
       "      <td>2845</td>\n",
       "      <td>Jennifer</td>\n",
       "      <td>Manhattan</td>\n",
       "      <td>Midtown</td>\n",
       "      <td>40.75356</td>\n",
       "      <td>-73.98559</td>\n",
       "      <td>Entire home/apt</td>\n",
       "      <td>150</td>\n",
       "      <td>30</td>\n",
       "      <td>49</td>\n",
       "      <td>2022-06-21</td>\n",
       "      <td>0.30</td>\n",
       "      <td>3</td>\n",
       "      <td>314</td>\n",
       "      <td>1</td>\n",
       "      <td>NaN</td>\n",
       "    </tr>\n",
       "    <tr>\n",
       "      <th>1</th>\n",
       "      <td>5121</td>\n",
       "      <td>BlissArtsSpace!</td>\n",
       "      <td>7356</td>\n",
       "      <td>Garon</td>\n",
       "      <td>Brooklyn</td>\n",
       "      <td>Bedford-Stuyvesant</td>\n",
       "      <td>40.68535</td>\n",
       "      <td>-73.95512</td>\n",
       "      <td>Private room</td>\n",
       "      <td>60</td>\n",
       "      <td>30</td>\n",
       "      <td>50</td>\n",
       "      <td>2019-12-02</td>\n",
       "      <td>0.30</td>\n",
       "      <td>2</td>\n",
       "      <td>365</td>\n",
       "      <td>0</td>\n",
       "      <td>NaN</td>\n",
       "    </tr>\n",
       "    <tr>\n",
       "      <th>2</th>\n",
       "      <td>5203</td>\n",
       "      <td>Cozy Clean Guest Room - Family Apt</td>\n",
       "      <td>7490</td>\n",
       "      <td>MaryEllen</td>\n",
       "      <td>Manhattan</td>\n",
       "      <td>Upper West Side</td>\n",
       "      <td>40.80380</td>\n",
       "      <td>-73.96751</td>\n",
       "      <td>Private room</td>\n",
       "      <td>75</td>\n",
       "      <td>2</td>\n",
       "      <td>118</td>\n",
       "      <td>2017-07-21</td>\n",
       "      <td>0.72</td>\n",
       "      <td>1</td>\n",
       "      <td>0</td>\n",
       "      <td>0</td>\n",
       "      <td>NaN</td>\n",
       "    </tr>\n",
       "    <tr>\n",
       "      <th>3</th>\n",
       "      <td>5178</td>\n",
       "      <td>Large Furnished Room Near B'way</td>\n",
       "      <td>8967</td>\n",
       "      <td>Shunichi</td>\n",
       "      <td>Manhattan</td>\n",
       "      <td>Midtown</td>\n",
       "      <td>40.76457</td>\n",
       "      <td>-73.98317</td>\n",
       "      <td>Private room</td>\n",
       "      <td>68</td>\n",
       "      <td>2</td>\n",
       "      <td>575</td>\n",
       "      <td>2023-02-19</td>\n",
       "      <td>3.41</td>\n",
       "      <td>1</td>\n",
       "      <td>106</td>\n",
       "      <td>52</td>\n",
       "      <td>NaN</td>\n",
       "    </tr>\n",
       "    <tr>\n",
       "      <th>4</th>\n",
       "      <td>5136</td>\n",
       "      <td>Large Sunny Brooklyn Duplex, Patio + Garden</td>\n",
       "      <td>7378</td>\n",
       "      <td>Rebecca</td>\n",
       "      <td>Brooklyn</td>\n",
       "      <td>Sunset Park</td>\n",
       "      <td>40.66265</td>\n",
       "      <td>-73.99454</td>\n",
       "      <td>Entire home/apt</td>\n",
       "      <td>275</td>\n",
       "      <td>60</td>\n",
       "      <td>3</td>\n",
       "      <td>2022-08-10</td>\n",
       "      <td>0.03</td>\n",
       "      <td>1</td>\n",
       "      <td>181</td>\n",
       "      <td>1</td>\n",
       "      <td>NaN</td>\n",
       "    </tr>\n",
       "  </tbody>\n",
       "</table>\n",
       "</div>"
      ],
      "text/plain": [
       "     id                                         name  host_id  host_name  \\\n",
       "0  2595                        Skylit Midtown Castle     2845   Jennifer   \n",
       "1  5121                              BlissArtsSpace!     7356      Garon   \n",
       "2  5203           Cozy Clean Guest Room - Family Apt     7490  MaryEllen   \n",
       "3  5178             Large Furnished Room Near B'way　     8967   Shunichi   \n",
       "4  5136  Large Sunny Brooklyn Duplex, Patio + Garden     7378    Rebecca   \n",
       "\n",
       "  neighbourhood_group       neighbourhood  latitude  longitude  \\\n",
       "0           Manhattan             Midtown  40.75356  -73.98559   \n",
       "1            Brooklyn  Bedford-Stuyvesant  40.68535  -73.95512   \n",
       "2           Manhattan     Upper West Side  40.80380  -73.96751   \n",
       "3           Manhattan             Midtown  40.76457  -73.98317   \n",
       "4            Brooklyn         Sunset Park  40.66265  -73.99454   \n",
       "\n",
       "         room_type  price  minimum_nights  number_of_reviews last_review  \\\n",
       "0  Entire home/apt    150              30                 49  2022-06-21   \n",
       "1     Private room     60              30                 50  2019-12-02   \n",
       "2     Private room     75               2                118  2017-07-21   \n",
       "3     Private room     68               2                575  2023-02-19   \n",
       "4  Entire home/apt    275              60                  3  2022-08-10   \n",
       "\n",
       "   reviews_per_month  calculated_host_listings_count  availability_365  \\\n",
       "0               0.30                               3               314   \n",
       "1               0.30                               2               365   \n",
       "2               0.72                               1                 0   \n",
       "3               3.41                               1               106   \n",
       "4               0.03                               1               181   \n",
       "\n",
       "   number_of_reviews_ltm license  \n",
       "0                      1     NaN  \n",
       "1                      0     NaN  \n",
       "2                      0     NaN  \n",
       "3                     52     NaN  \n",
       "4                      1     NaN  "
      ]
     },
     "execution_count": 14,
     "metadata": {},
     "output_type": "execute_result"
    }
   ],
   "source": [
    "df.head()"
   ]
  },
  {
   "cell_type": "code",
   "execution_count": 16,
   "id": "38218cbe",
   "metadata": {},
   "outputs": [
    {
     "data": {
      "text/plain": [
       "(42931, 18)"
      ]
     },
     "execution_count": 16,
     "metadata": {},
     "output_type": "execute_result"
    }
   ],
   "source": [
    "df.shape"
   ]
  },
  {
   "cell_type": "code",
   "execution_count": null,
   "id": "2519be6a",
   "metadata": {},
   "outputs": [],
   "source": [
    "file_path = os.path.join('c:', 'Users','IFDCPP-2','Documents','Felix Omokaro', 'new_york_new.csv')\n",
    "df.to_csv(file_path, index=False)"
   ]
  },
  {
   "cell_type": "code",
   "execution_count": null,
   "id": "a8dae879",
   "metadata": {},
   "outputs": [],
   "source": []
  },
  {
   "cell_type": "code",
   "execution_count": 17,
   "id": "84b11502",
   "metadata": {},
   "outputs": [
    {
     "data": {
      "text/plain": [
       "array(['Manhattan', 'Brooklyn', 'Queens', 'Bronx', 'Staten Island'],\n",
       "      dtype=object)"
      ]
     },
     "execution_count": 17,
     "metadata": {},
     "output_type": "execute_result"
    }
   ],
   "source": [
    "df['neighbourhood_group'].unique()"
   ]
  },
  {
   "cell_type": "code",
   "execution_count": 18,
   "id": "5a24d442",
   "metadata": {},
   "outputs": [
    {
     "data": {
      "text/plain": [
       "Manhattan        17658\n",
       "Brooklyn         16237\n",
       "Queens            6916\n",
       "Bronx             1691\n",
       "Staten Island      429\n",
       "Name: neighbourhood_group, dtype: int64"
      ]
     },
     "execution_count": 18,
     "metadata": {},
     "output_type": "execute_result"
    }
   ],
   "source": [
    "df['neighbourhood_group'].value_counts()"
   ]
  },
  {
   "cell_type": "code",
   "execution_count": 25,
   "id": "dda01300",
   "metadata": {},
   "outputs": [
    {
     "data": {
      "text/plain": [
       "array(['Entire home/apt', 'Private room', 'Hotel room', 'Shared room'],\n",
       "      dtype=object)"
      ]
     },
     "execution_count": 25,
     "metadata": {},
     "output_type": "execute_result"
    }
   ],
   "source": [
    "df['room_type'].unique()"
   ]
  },
  {
   "cell_type": "code",
   "execution_count": null,
   "id": "30a1e965",
   "metadata": {},
   "outputs": [],
   "source": [
    "C:\\Users\\IFDCPP-2\\PycharmProjects\\Predicting-Airbnb-rental-price-New-York"
   ]
  },
  {
   "cell_type": "code",
   "execution_count": 27,
   "id": "e92ddd0e",
   "metadata": {},
   "outputs": [
    {
     "data": {
      "text/plain": [
       "Index(['id', 'name', 'host_id', 'host_name', 'neighbourhood_group',\n",
       "       'neighbourhood', 'latitude', 'longitude', 'room_type', 'price',\n",
       "       'minimum_nights', 'number_of_reviews', 'last_review',\n",
       "       'reviews_per_month', 'calculated_host_listings_count',\n",
       "       'availability_365', 'number_of_reviews_ltm', 'license'],\n",
       "      dtype='object')"
      ]
     },
     "execution_count": 27,
     "metadata": {},
     "output_type": "execute_result"
    }
   ],
   "source": [
    "df.columns"
   ]
  },
  {
   "cell_type": "code",
   "execution_count": 29,
   "id": "d3808fb4",
   "metadata": {},
   "outputs": [
    {
     "name": "stdout",
     "output_type": "stream",
     "text": [
      "<class 'pandas.core.frame.DataFrame'>\n",
      "RangeIndex: 42931 entries, 0 to 42930\n",
      "Data columns (total 18 columns):\n",
      " #   Column                          Non-Null Count  Dtype  \n",
      "---  ------                          --------------  -----  \n",
      " 0   id                              42931 non-null  int64  \n",
      " 1   name                            42919 non-null  object \n",
      " 2   host_id                         42931 non-null  int64  \n",
      " 3   host_name                       42926 non-null  object \n",
      " 4   neighbourhood_group             42931 non-null  object \n",
      " 5   neighbourhood                   42931 non-null  object \n",
      " 6   latitude                        42931 non-null  float64\n",
      " 7   longitude                       42931 non-null  float64\n",
      " 8   room_type                       42931 non-null  object \n",
      " 9   price                           42931 non-null  int64  \n",
      " 10  minimum_nights                  42931 non-null  int64  \n",
      " 11  number_of_reviews               42931 non-null  int64  \n",
      " 12  last_review                     32627 non-null  object \n",
      " 13  reviews_per_month               32627 non-null  float64\n",
      " 14  calculated_host_listings_count  42931 non-null  int64  \n",
      " 15  availability_365                42931 non-null  int64  \n",
      " 16  number_of_reviews_ltm           42931 non-null  int64  \n",
      " 17  license                         1 non-null      object \n",
      "dtypes: float64(3), int64(8), object(7)\n",
      "memory usage: 5.9+ MB\n"
     ]
    }
   ],
   "source": [
    "df.info()"
   ]
  },
  {
   "cell_type": "code",
   "execution_count": null,
   "id": "3f69e9fa",
   "metadata": {},
   "outputs": [],
   "source": []
  },
  {
   "cell_type": "code",
   "execution_count": null,
   "id": "8b96df33",
   "metadata": {},
   "outputs": [],
   "source": []
  },
  {
   "cell_type": "code",
   "execution_count": 46,
   "id": "fc2d21cd",
   "metadata": {},
   "outputs": [
    {
     "data": {
      "image/png": "[encoded data removed]",
      "text/plain": [
       "<Figure size 640x480 with 1 Axes>"
      ]
     },
     "metadata": {},
     "output_type": "display_data"
    }
   ],
   "source": [
    "plt.hist(df['room_type'])\n",
    "\n",
    "# add labels and title\n",
    "plt.xlabel('Room Type')\n",
    "plt.ylabel('Frequency')\n",
    "plt.title('Distribution of Room Types')\n",
    "\n",
    "# display the plot\n",
    "plt.show()"
   ]
  },
  {
   "cell_type": "code",
   "execution_count": 49,
   "id": "72f704ff",
   "metadata": {},
   "outputs": [
    {
     "data": {
      "image/png": "[encoded data removed]",
      "text/plain": [
       "<Figure size 640x480 with 1 Axes>"
      ]
     },
     "metadata": {},
     "output_type": "display_data"
    }
   ],
   "source": [
    "plt.hist(df['neighbourhood_group'])\n",
    "\n",
    "# add labels and title\n",
    "plt.xlabel('neighbourhood_group')\n",
    "plt.ylabel('Frequency')\n",
    "plt.title('Distribution of neighbourhood_group')\n",
    "\n",
    "# display the plot\n",
    "plt.show()"
   ]
  },
  {
   "cell_type": "code",
   "execution_count": 50,
   "id": "7ffa0b04",
   "metadata": {},
   "outputs": [
    {
     "data": {
      "image/png": "[encoded data removed]",
      "text/plain": [
       "<Figure size 640x480 with 1 Axes>"
      ]
     },
     "metadata": {},
     "output_type": "display_data"
    }
   ],
   "source": [
    "plt.hist(df['price'])\n",
    "\n",
    "# add labels and title\n",
    "plt.xlabel('price')\n",
    "plt.ylabel('Frequency')\n",
    "plt.title('price distr')\n",
    "\n",
    "# display the plot\n",
    "plt.show()"
   ]
  },
  {
   "cell_type": "code",
   "execution_count": null,
   "id": "241ee579",
   "metadata": {},
   "outputs": [],
   "source": []
  },
  {
   "cell_type": "code",
   "execution_count": null,
   "id": "2b6f506d",
   "metadata": {},
   "outputs": [],
   "source": []
  },
  {
   "cell_type": "code",
   "execution_count": null,
   "id": "dc6c8f86",
   "metadata": {},
   "outputs": [],
   "source": []
  },
  {
   "cell_type": "code",
   "execution_count": null,
   "id": "a66e6f9f",
   "metadata": {},
   "outputs": [],
   "source": []
  },
  {
   "cell_type": "code",
   "execution_count": null,
   "id": "d6ef5a42",
   "metadata": {},
   "outputs": [],
   "source": []
  },
  {
   "cell_type": "code",
   "execution_count": null,
   "id": "d3329489",
   "metadata": {},
   "outputs": [],
   "source": []
  }
 ],
 "metadata": {
  "kernelspec": {
   "display_name": "Python 3 (ipykernel)",
   "language": "python",
   "name": "python3"
  },
  "language_info": {
   "codemirror_mode": {
    "name": "ipython",
    "version": 3
   },
   "file_extension": ".py",
   "mimetype": "text/x-python",
   "name": "python",
   "nbconvert_exporter": "python",
   "pygments_lexer": "ipython3",
   "version": "3.9.13"
  }
 },
 "nbformat": 4,
 "nbformat_minor": 5
}
